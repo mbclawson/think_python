{
 "cells": [
  {
   "cell_type": "code",
   "execution_count": 42,
   "metadata": {},
   "outputs": [
    {
     "name": "stdout",
     "output_type": "stream",
     "text": [
      "Your average pace is 6 minutes 52 seconds!\n"
     ]
    }
   ],
   "source": [
    "#Ch1\n",
    "#If you run a 10 kilometer race in 42 minutes 42 seconds, what is your average pace (time per mile in minutes and seconds)? What is your average speed in miles per hour?\n",
    "\n",
    "seconds = ((42*60) + 42)\n",
    "miles = (10/1.61)\n",
    "secpermi = seconds/miles\n",
    "print ('Your average pace is', int(secpermi//60), 'minutes', int(secpermi % 60), 'seconds!')"
   ]
  },
  {
   "cell_type": "code",
   "execution_count": 61,
   "metadata": {},
   "outputs": [
    {
     "data": {
      "text/plain": [
       "523.5987755982989"
      ]
     },
     "execution_count": 61,
     "metadata": {},
     "output_type": "execute_result"
    }
   ],
   "source": [
    "#The volume of a sphere with radius r is 4/3 π r3. What is the volume of a sphere with radius 5?\n",
    "from math import pi\n",
    "volume = (4/3) * pi * (5**3)\n",
    "volume"
   ]
  },
  {
   "cell_type": "code",
   "execution_count": null,
   "metadata": {},
   "outputs": [],
   "source": [
    "#Suppose the cover price of a book is $24.95, but bookstores get a 40% discount. \n",
    "#Shipping costs $3 for the first copy and 75 cents for each additional copy. \n",
    "#What is the total wholesale cost for 60 copies?\n",
    "def cost(price, copies):\n",
    "    \n",
    "    return()"
   ]
  }
 ],
 "metadata": {
  "kernelspec": {
   "display_name": "Python 3",
   "language": "python",
   "name": "python3"
  },
  "language_info": {
   "codemirror_mode": {
    "name": "ipython",
    "version": 3
   },
   "file_extension": ".py",
   "mimetype": "text/x-python",
   "name": "python",
   "nbconvert_exporter": "python",
   "pygments_lexer": "ipython3",
   "version": "3.7.4"
  }
 },
 "nbformat": 4,
 "nbformat_minor": 4
}
